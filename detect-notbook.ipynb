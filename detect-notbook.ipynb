{
 "metadata": {
  "language_info": {
   "codemirror_mode": {
    "name": "ipython",
    "version": 3
   },
   "file_extension": ".py",
   "mimetype": "text/x-python",
   "name": "python",
   "nbconvert_exporter": "python",
   "pygments_lexer": "ipython3",
   "version": 3
  },
  "orig_nbformat": 4
 },
 "nbformat": 4,
 "nbformat_minor": 2,
 "cells": [
  {
   "cell_type": "code",
   "execution_count": null,
   "metadata": {},
   "outputs": [],
   "source": [
    "import cv2\n",
    "import operator\n",
    "import keyboard\n"
   ]
  },
  {
   "cell_type": "code",
   "execution_count": null,
   "metadata": {},
   "outputs": [],
   "source": [
    "face_cascade=cv2.CascadeClassifier(cv2.data.haarcascades +\"haarcascade_frontalface_alt2.xml\")\n",
    "profile_cascade=cv2.CascadeClassifier(cv2.data.haarcascades +\"haarcascade_profileface.xml\")"
   ]
  },
  {
   "cell_type": "code",
   "execution_count": null,
   "metadata": {},
   "outputs": [],
   "source": [
    "while True:\n",
    "    print(\"q : quit / v : vidéo / i : image\")\n",
    "    if keyboard.is_pressed('q'):\n",
    "        print(\"End program\")\n",
    "        break\n",
    "    if keyboard.is_pressed('v'):\n",
    "        print(\"Vidéo\")\n"
   ]
  },
  {
   "cell_type": "code",
   "execution_count": null,
   "metadata": {},
   "outputs": [],
   "source": [
    "        cap=cv2.VideoCapture(0,cv2.CAP_DSHOW)\n",
    "        width=int(cap.get(3))\n",
    "        marge=70\n",
    "\n",
    "        while True:\n",
    "            ret, frame=cap.read()\n",
    "            tab_face=[]\n",
    "            tickmark=cv2.getTickCount()\n",
    "            gray=cv2.cvtColor(frame, cv2.COLOR_BGR2GRAY)\n",
    "            face=face_cascade.detectMultiScale(gray, scaleFactor=1.2, minNeighbors=4, minSize=(5, 5))\n",
    "            for x, y, w, h in face:\n",
    "                tab_face.append([x, y, x+w, y+h])\n",
    "            face=profile_cascade.detectMultiScale(gray, scaleFactor=1.2, minNeighbors=4)\n",
    "            for x, y, w, h in face:\n",
    "                tab_face.append([x, y, x+w, y+h])\n",
    "            gray2=cv2.flip(gray, 1)\n",
    "            face=profile_cascade.detectMultiScale(gray2, scaleFactor=1.2, minNeighbors=4)\n",
    "            for x, y, w, h in face:\n",
    "                tab_face.append([width-x, y, width-(x+w), y+h])\n",
    "            tab_face=sorted(tab_face, key=operator.itemgetter(0, 1))\n",
    "            index=0\n",
    "            for x, y, x2, y2 in tab_face:\n",
    "                if not index or (x-tab_face[index-1][0]>marge or y-tab_face[index-1][1]>marge):\n",
    "                    cv2.rectangle(frame, (x, y), (x2, y2), (0, 0, 255), 2)\n",
    "                index+=1\n",
    "            if cv2.waitKey(1)&0xFF==ord('q'):\n",
    "                break\n",
    "            fps=cv2.getTickFrequency()/(cv2.getTickCount()-tickmark)\n",
    "            cv2.putText(frame, \"FPS: {:05.2f}\".format(fps), (10, 30), cv2.FONT_HERSHEY_PLAIN, 2, (255, 0, 0), 2)\n",
    "            cv2.imshow('video', frame)\n",
    "        cap.release()\n",
    "        cv2.destroyAllWindows()"
   ]
  },
  {
   "cell_type": "code",
   "execution_count": null,
   "metadata": {},
   "outputs": [],
   "source": [
    "    if keyboard.is_pressed('i'):\n",
    "        print(\"image\")"
   ]
  },
  {
   "cell_type": "code",
   "execution_count": null,
   "metadata": {},
   "outputs": [],
   "source": [
    "        cap=cv2.VideoCapture(0,cv2.CAP_DSHOW)\n",
    "        width=int(cap.get(3))\n",
    "        marge=70\n",
    "\n",
    "        while True:\n",
    "            ret, frame=cap.read()\n",
    "            tab_face=[]\n",
    "            tickmark=cv2.getTickCount()\n",
    "            gray=cv2.cvtColor(frame, cv2.COLOR_BGR2GRAY)\n",
    "            face=face_cascade.detectMultiScale(gray, scaleFactor=1.2, minNeighbors=4, minSize=(5, 5))\n",
    "            for x, y, w, h in face:\n",
    "                tab_face.append([x, y, x+w, y+h])\n",
    "            face=profile_cascade.detectMultiScale(gray, scaleFactor=1.2, minNeighbors=4)\n",
    "            for x, y, w, h in face:\n",
    "                tab_face.append([x, y, x+w, y+h])\n",
    "            gray2=cv2.flip(gray, 1)\n",
    "            face=profile_cascade.detectMultiScale(gray2, scaleFactor=1.2, minNeighbors=4)\n",
    "            for x, y, w, h in face:\n",
    "                tab_face.append([width-x, y, width-(x+w), y+h])\n",
    "            tab_face=sorted(tab_face, key=operator.itemgetter(0, 1))\n",
    "            index=0\n",
    "            for x, y, x2, y2 in tab_face:\n",
    "                if not index or (x-tab_face[index-1][0]>marge or y-tab_face[index-1][1]>marge):\n",
    "                    cv2.rectangle(frame, (x, y), (x2, y2), (0, 0, 255), 2)\n",
    "                index+=1\n",
    "            if cv2.waitKey(1)&0xFF==ord('q'):\n",
    "                break\n",
    "            fps=cv2.getTickFrequency()/(cv2.getTickCount()-tickmark)\n",
    "            cv2.putText(frame, \"FPS: {:05.2f}\".format(fps), (10, 30), cv2.FONT_HERSHEY_PLAIN, 2, (255, 0, 0), 2)\n",
    "            cv2.imshow('video', frame)\n",
    "        cap.release()\n",
    "        cv2.destroyAllWindows()"
   ]
  }
 ]
}